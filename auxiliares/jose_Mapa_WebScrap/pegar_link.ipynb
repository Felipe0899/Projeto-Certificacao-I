{
 "cells": [
  {
   "cell_type": "code",
   "execution_count": 1,
   "metadata": {},
   "outputs": [],
   "source": [
    "import pandas as pd\n",
    "import numpy as np\n",
    "import datetime as dt\n",
    "import requests\n",
    "from bs4 import BeautifulSoup\n",
    "import scrapy\n",
    "import random\n",
    "import time\n",
    "from urllib.parse import urljoin\n",
    "import re"
   ]
  },
  {
   "cell_type": "code",
   "execution_count": 2,
   "metadata": {},
   "outputs": [],
   "source": [
    "arquivos_excel = ['sites_36.xlsx']\n",
    "dados_brutos = [pd.read_excel(i) for i in arquivos_excel]\n",
    "base = pd.concat(dados_brutos, ignore_index=True)"
   ]
  },
  {
   "cell_type": "code",
   "execution_count": 13,
   "metadata": {},
   "outputs": [
    {
     "data": {
      "text/html": [
       "<div>\n",
       "<style scoped>\n",
       "    .dataframe tbody tr th:only-of-type {\n",
       "        vertical-align: middle;\n",
       "    }\n",
       "\n",
       "    .dataframe tbody tr th {\n",
       "        vertical-align: top;\n",
       "    }\n",
       "\n",
       "    .dataframe thead th {\n",
       "        text-align: right;\n",
       "    }\n",
       "</style>\n",
       "<table border=\"1\" class=\"dataframe\">\n",
       "  <thead>\n",
       "    <tr style=\"text-align: right;\">\n",
       "      <th></th>\n",
       "      <th>id</th>\n",
       "      <th>name</th>\n",
       "      <th>url</th>\n",
       "      <th>state</th>\n",
       "      <th>city</th>\n",
       "      <th>sitemap_posts_url (sem data, index, webstories)</th>\n",
       "      <th>Google News Sitemap URL</th>\n",
       "      <th>rss_url (se presente)</th>\n",
       "      <th>paywall</th>\n",
       "      <th>name_normalized</th>\n",
       "      <th>name_normalized_cortado</th>\n",
       "    </tr>\n",
       "  </thead>\n",
       "  <tbody>\n",
       "    <tr>\n",
       "      <th>0</th>\n",
       "      <td>875</td>\n",
       "      <td>CLICKON</td>\n",
       "      <td>http://www.clickon.com.br/</td>\n",
       "      <td>SP</td>\n",
       "      <td>São Paulo</td>\n",
       "      <td>NaN</td>\n",
       "      <td>NaN</td>\n",
       "      <td>NaN</td>\n",
       "      <td>NaN</td>\n",
       "      <td>clickon</td>\n",
       "      <td>[clickon]</td>\n",
       "    </tr>\n",
       "    <tr>\n",
       "      <th>1</th>\n",
       "      <td>876</td>\n",
       "      <td>CLICKSINDICO</td>\n",
       "      <td>https://www.clicksindico.com.br/</td>\n",
       "      <td>RS</td>\n",
       "      <td>Porto Alegre</td>\n",
       "      <td>https://www.clicksindico.com.br/sitemap.xml</td>\n",
       "      <td>NaN</td>\n",
       "      <td>https://www.clicksindico.com.br/blog-feed.xml</td>\n",
       "      <td>NaN</td>\n",
       "      <td>clicksindico</td>\n",
       "      <td>[clicksindico]</td>\n",
       "    </tr>\n",
       "  </tbody>\n",
       "</table>\n",
       "</div>"
      ],
      "text/plain": [
       "    id          name                               url state          city  \\\n",
       "0  875       CLICKON        http://www.clickon.com.br/    SP     São Paulo   \n",
       "1  876  CLICKSINDICO  https://www.clicksindico.com.br/    RS  Porto Alegre   \n",
       "\n",
       "  sitemap_posts_url (sem data, index, webstories)  Google News Sitemap URL  \\\n",
       "0                                             NaN                      NaN   \n",
       "1     https://www.clicksindico.com.br/sitemap.xml                      NaN   \n",
       "\n",
       "                           rss_url (se presente)  paywall name_normalized  \\\n",
       "0                                            NaN      NaN         clickon   \n",
       "1  https://www.clicksindico.com.br/blog-feed.xml      NaN    clicksindico   \n",
       "\n",
       "  name_normalized_cortado  \n",
       "0               [clickon]  \n",
       "1          [clicksindico]  "
      ]
     },
     "execution_count": 13,
     "metadata": {},
     "output_type": "execute_result"
    }
   ],
   "source": [
    "base.head(2)"
   ]
  },
  {
   "cell_type": "code",
   "execution_count": 4,
   "metadata": {},
   "outputs": [],
   "source": [
    "# Alteração na base normalizada cortada para a pesquisa no navegador\n",
    "\n",
    "#base['name_normalized'] = base['name_normalized'].str.replace(r'(estadao|com|\\-|folha|g1|uol|\\.)', '', regex=True)"
   ]
  },
  {
   "cell_type": "code",
   "execution_count": 5,
   "metadata": {},
   "outputs": [
    {
     "data": {
      "text/plain": [
       "0                                  [clickon]\n",
       "1                             [clicksindico]\n",
       "2                              [clicrbs, sc]\n",
       "3                                 [cliktrue]\n",
       "4                              [clima, surf]\n",
       "5                               [climatempo]\n",
       "6                          [clique, esporte]\n",
       "7                             [club, mobile]\n",
       "8       [clube, de, criacao, de, sp, (ccsp)]\n",
       "9                       [clube, vale, serra]\n",
       "10                 [cmm, comunicacoes, ltda]\n",
       "11                                   [cmncd]\n",
       "12                         [cocal, noticias]\n",
       "13    [coin, gape, -, a, internet, dinheiro]\n",
       "14                            [colegio, web]\n",
       "15              [coletivo, magnifica, mundi]\n",
       "16                         [coluna, d'oeste]\n",
       "17           [coluna, thais, heredia, -, g1]\n",
       "18           [coluna, yvonne, maggie, -, g1]\n",
       "19               [coluna, samy, dana, -, g1]\n",
       "20                [com, deus, e, a, verdade]\n",
       "21                       [comando, exercito]\n",
       "22                                 [comarca]\n",
       "23                      [comarca, de, garca]\n",
       "24             [combate, racismo, ambiental]\n",
       "Name: name_normalized_cortado, dtype: object"
      ]
     },
     "execution_count": 5,
     "metadata": {},
     "output_type": "execute_result"
    }
   ],
   "source": [
    "# Alteração  na base Normalizada cortado alguns valores\n",
    "\n",
    "base['name_normalized_cortado'] = base['name_normalized'].str.replace(r'\\b(blog|no|na|do|da)\\b', '', regex=True)\n",
    "# Remover espaços extras resultantes da substituição\n",
    "base['name_normalized_cortado'] = base['name_normalized_cortado'].str.strip().str.replace(r'\\s+', ' ', regex=True)\n",
    "# Supondo que 'base' seja o DataFrame e 'name_normalized_cortado' seja a coluna\n",
    "base['name_normalized_cortado'] = base['name_normalized_cortado'].apply(lambda x: x.split() if isinstance(x, str) else x)\n",
    "base['name_normalized_cortado']"
   ]
  },
  {
   "cell_type": "code",
   "execution_count": 7,
   "metadata": {},
   "outputs": [
    {
     "data": {
      "text/plain": [
       "'CLICRBS SC'"
      ]
     },
     "execution_count": 7,
     "metadata": {},
     "output_type": "execute_result"
    }
   ],
   "source": [
    "base.iloc[2]['name']"
   ]
  },
  {
   "cell_type": "markdown",
   "metadata": {},
   "source": [
    "## NÃO ESTÁ MAIS FUNCIONANDO😪😪 \n",
    "## GOOGLE MELHOROU A SEGURANÇA, OU MEU IP ESTÁ BLOQUEADO"
   ]
  },
  {
   "cell_type": "code",
   "execution_count": null,
   "metadata": {},
   "outputs": [],
   "source": [
    "\n",
    "\n",
    "def get_url_from_google(index):\n",
    "\tdef ajusta_url(url):\n",
    "    # Define um padrão para \".com/\" ou \".com.br/\"\n",
    "\t\tpattern = r\"^(https?://[^/]+?(?:\\.com(?:\\.br)?/))\"\n",
    "\t\tmatch = re.match(pattern, url)\n",
    "\t\tif match:\n",
    "\t\t\treturn match.group(1)\n",
    "\t\telse: return url\n",
    "\n",
    "\n",
    "\tquery = \"+\".join(base['name_normalized'].iloc[index].split())\n",
    "\tsearch_url = f\"https://www.google.com/search?q={query}\"\n",
    "\n",
    "\t# Configuração de headers para simular um navegador\n",
    "\tuser_agents = [\n",
    "\t\"Mozilla/5.0 (Windows NT 10.0; Win64; x64) AppleWebKit/537.36 (KHTML, like Gecko) Chrome/91.0.4472.124 Safari/537.36\",\n",
    "\t\"Mozilla/5.0 (Macintosh; Intel Mac OS X 10_15_7) AppleWebKit/537.36 (KHTML, like Gecko) Chrome/91.0.4472.124 Safari/537.36\",\n",
    "\t\"Mozilla/5.0 (X11; Ubuntu; Linux x86_64; rv:90.0) Gecko/20100101 Firefox/90.0\"\n",
    "\t]\n",
    "\n",
    "\theaders = {\"User-Agent\": random.choice(user_agents)}\n",
    "\n",
    "\t# Fazer a requisição ao Google\n",
    "\tresponse = requests.get(search_url, headers=headers)\n",
    "\n",
    "\tsoup = BeautifulSoup(response.text, \"html.parser\")\n",
    "\t\n",
    "\n",
    "\tmain_data=soup.find_all(\"a\")\n",
    "\t#pattern_inverso = rf'href=\"(https?://[^\"]*{'google'}[^\"]*\\.(com|org)(?:\\.br)?[^\"]*)'\n",
    "\t#print(main_data)\n",
    "\n",
    "\tkeyword = base[\"name_normalized_cortado\"][index]\n",
    "\tpattern = rf'href=\"(https://.*{keyword}.*\\.com/)\"'\n",
    "\n",
    "\tlink_primeiro_site_encontrado = []\n",
    "\tfor keyword in base['name_normalized_cortado'][index]:\n",
    "\t\t#print(keyword)\n",
    "\t\t\n",
    "\t\tpattern = rf'href=\"(https?://[^\"]*{keyword}[^\"]*\\.(com|org)(?:\\.br)?[^\"]*)'\n",
    "\t\t#pattern = rf'href=\"(https?://[^\"]*{keyword}[^\"]*\\.(com|org)(?:\\.br)?/?)\"'\n",
    "\t\tfor i in main_data[:21]:\n",
    "\t\t\tprint(i)\n",
    "\t\t\tmatch = re.search(pattern, str(i))\n",
    "\t\t\tif match:\n",
    "\t\t\t\t#print(\"URL encontrada:\", match.group())\n",
    "\t\t\t\tif match.group() not in link_primeiro_site_encontrado:\n",
    "\t\t\t\t\tif match.group(1) is not None:\n",
    "\t\t\t\t\t\tlink_primeiro_site_encontrado.append(ajusta_url(match.group(1)))\n",
    "\t\t\t\t\t\t\n",
    "\t\tif link_primeiro_site_encontrado == [] and len(main_data) > 14:\n",
    "\t\t\tfor element in [8,15]:\n",
    "\t\t\t\thref = main_data[element].get('href')\n",
    "\t\t\t\tif href and len(href) < 100:\n",
    "\t\t\t\t\tlink_primeiro_site_encontrado.append(ajusta_url(href))\n",
    "\t\tif link_primeiro_site_encontrado == []:\n",
    "\t\t\tfor i in main_data[8:21]:\n",
    "\t\t\t\tpattern_1 = rf'href=\"(https?://[^\"]*{keyword}[^\"]*[^/]*?)\"'\n",
    "\t\t\t\tmatch = re.search(pattern_1, str(i))\n",
    "\t\t\t\tif match:\n",
    "\t\t\t\t\t\tlink_primeiro_site_encontrado.append(match.group(1))\n",
    "\n",
    "\t\t# else:\n",
    "\t\t# \thref = main_data[8].get('href')\n",
    "\t\t# \tlink_primeiro_site_encontrado.append(ajusta_url(href))\n",
    "\t\t\t\n",
    "\treturn link_primeiro_site_encontrado\n",
    "\n",
    "\n",
    "def pega_url_de_lista_com_timesleep(inicio, termino, base):\n",
    "\tfim = dict()\n",
    "\tfor index in range(inicio, termino):\n",
    "\t\turl = get_url_from_google(index)\n",
    "\t\t#print(f\"URL encontrada para '{site}': {url}\")\n",
    "\t\tfim[base.iloc[index]['name']] = url\n",
    "\t\t# Pausa aleatória entre as requisições\n",
    "\t\ttime.sleep(random.uniform(3, 15))\n",
    "\t\n",
    "\treturn fim\n",
    "\n"
   ]
  },
  {
   "cell_type": "code",
   "execution_count": 12,
   "metadata": {},
   "outputs": [
    {
     "data": {
      "text/plain": [
       "[]"
      ]
     },
     "execution_count": 12,
     "metadata": {},
     "output_type": "execute_result"
    }
   ],
   "source": [
    "get_url_from_google(4)"
   ]
  },
  {
   "cell_type": "code",
   "execution_count": 17,
   "metadata": {},
   "outputs": [
    {
     "data": {
      "text/plain": [
       "id                                                                                   878\n",
       "name                                                                            CLIKTRUE\n",
       "url                                                           https://www.clicktrue.biz/\n",
       "state                                                                                 SC\n",
       "city                                                                       Florianópolis\n",
       "sitemap_posts_url (sem data, index, webstories)    https://www.clicktrue.biz/sitemap.xml\n",
       "Google News Sitemap URL                                                              NaN\n",
       "rss_url (se presente)                                                                NaN\n",
       "paywall                                                                              NaN\n",
       "name_normalized                                                                 cliktrue\n",
       "name_normalized_cortado                                                       [cliktrue]\n",
       "Name: 3, dtype: object"
      ]
     },
     "execution_count": 17,
     "metadata": {},
     "output_type": "execute_result"
    }
   ],
   "source": [
    "base.iloc[3]"
   ]
  },
  {
   "cell_type": "code",
   "execution_count": 21,
   "metadata": {},
   "outputs": [
    {
     "name": "stdout",
     "output_type": "stream",
     "text": [
      "<a href=\"/httpservice/retry/enablejs?sei=tGQAaKinHLaL5OUPgOWJsQs\">aqui</a>\n",
      "<a href=\"/search?q=cmm+comunicacoes+ltda&amp;sca_esv=db757fb3b2a85d69&amp;emsg=SG_REL&amp;sei=tGQAaKinHLaL5OUPgOWJsQs\">click here</a>\n",
      "<a href=\"https://support.google.com/websearch\">feedback</a>\n",
      "<a href=\"/httpservice/retry/enablejs?sei=tGQAaKinHLaL5OUPgOWJsQs\">aqui</a>\n",
      "<a href=\"/search?q=cmm+comunicacoes+ltda&amp;sca_esv=db757fb3b2a85d69&amp;emsg=SG_REL&amp;sei=tGQAaKinHLaL5OUPgOWJsQs\">click here</a>\n",
      "<a href=\"https://support.google.com/websearch\">feedback</a>\n",
      "<a href=\"/httpservice/retry/enablejs?sei=tGQAaKinHLaL5OUPgOWJsQs\">aqui</a>\n",
      "<a href=\"/search?q=cmm+comunicacoes+ltda&amp;sca_esv=db757fb3b2a85d69&amp;emsg=SG_REL&amp;sei=tGQAaKinHLaL5OUPgOWJsQs\">click here</a>\n",
      "<a href=\"https://support.google.com/websearch\">feedback</a>\n",
      "<a href=\"/httpservice/retry/enablejs?sei=vWQAaPy7Lry65OUP_-XU0As\">aqui</a>\n",
      "<a href=\"/search?q=cmncd&amp;sca_esv=db757fb3b2a85d69&amp;emsg=SG_REL&amp;sei=vWQAaPy7Lry65OUP_-XU0As\">click here</a>\n",
      "<a href=\"https://support.google.com/websearch\">feedback</a>\n"
     ]
    },
    {
     "data": {
      "text/plain": [
       "{'CMM COMUNICACOES LTDA': [], 'CMNCD': []}"
      ]
     },
     "execution_count": 21,
     "metadata": {},
     "output_type": "execute_result"
    }
   ],
   "source": [
    "c = pega_url_de_lista_com_timesleep(10, 12, base)\n",
    "c"
   ]
  }
 ],
 "metadata": {
  "kernelspec": {
   "display_name": "Python 3",
   "language": "python",
   "name": "python3"
  },
  "language_info": {
   "codemirror_mode": {
    "name": "ipython",
    "version": 3
   },
   "file_extension": ".py",
   "mimetype": "text/x-python",
   "name": "python",
   "nbconvert_exporter": "python",
   "pygments_lexer": "ipython3",
   "version": "3.12.4"
  }
 },
 "nbformat": 4,
 "nbformat_minor": 2
}
